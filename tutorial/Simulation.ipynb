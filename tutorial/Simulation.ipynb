{
 "cells": [
  {
   "cell_type": "markdown",
   "metadata": {},
   "source": [
    "# State Vector Simulators\n",
    "\n",
    "The `nvidia` target provides a state vector simulator accelerated with the `cuStateVec` library.\n",
    "\n",
    "The `nvidia` target supports multiple configurable options.\n",
    "\n",
    "## Features\n",
    "\n",
    "### Floating-Point Precision Configuration\n",
    "- The floating-point precision of the state vector data can be configured to either:\n",
    "  - **Double precision (`fp64`)**\n",
    "  - **Single precision (`fp32`)**\n",
    "- This option can be chosen for optimal performance and accuracy.\n",
    "\n",
    "### Distributed Simulation\n",
    "- The `nvidia` target supports distributing state vector simulations:\n",
    "  - Across **multiple GPUs and nodes** (`mgpu distribution`).\n",
    "  - Through **multi-QPU (`mqpu platform`) distribution**, where each QPU is simulated using a single GPU simulator instance.\n",
    "\n",
    "### Host CPU Memory Utilization\n",
    "- **Host CPU memory** can be leveraged in addition to GPU memory.\n",
    "- This allows the accommodation of large state vectors (i.e., maximizing the number of qubits that can be simulated)."
   ]
  },
  {
   "cell_type": "markdown",
   "metadata": {},
   "source": [
    "## Single-GPU\n",
    "\n",
    "To execute a program on the `nvidia` target, use the following commands:\n",
    "\n",
    "Terminal:\n",
    "`python3 program.py [...] --target nvidia`\n",
    "\n",
    "The target can also be defined in the application code by calling\n"
   ]
  },
  {
   "cell_type": "code",
   "execution_count": 2,
   "metadata": {},
   "outputs": [],
   "source": [
    "import cudaq\n",
    "cudaq.set_target('nvidia')"
   ]
  },
  {
   "cell_type": "markdown",
   "metadata": {},
   "source": [
    "If a target is set in the application code, this target will override the `--target` command line flag given during program invocation.\n",
    "\n",
    "By default, this will leverage **FP32** floating-point types for the simulation. To switch to **FP64**, specify the `--target-option fp64` command line option for **C++** (`nvq++`) or use:\n",
    "\n",
    "```python\n",
    "cudaq.set_target('nvidia', option='fp64')"
   ]
  },
  {
   "cell_type": "code",
   "execution_count": null,
   "metadata": {},
   "outputs": [],
   "source": [
    "! python3 program.py [...] --target nvidia --target-option fp64"
   ]
  },
  {
   "cell_type": "code",
   "execution_count": null,
   "metadata": {},
   "outputs": [],
   "source": [
    "cudaq.set_target('nvidia', option='fp64')"
   ]
  },
  {
   "cell_type": "markdown",
   "metadata": {},
   "source": [
    "## OpenMP CPU-only\n",
    "\n",
    "This target provides a state vector simulator based on the CPU-only, OpenMP-threaded **Q++** library. This is the default target when running on CPU-only systems.\n",
    "\n",
    "To execute a program on the `qpp-cpu` target, even if a GPU-accelerated backend is available, use the following commands:"
   ]
  },
  {
   "cell_type": "code",
   "execution_count": 3,
   "metadata": {},
   "outputs": [
    {
     "name": "stdout",
     "output_type": "stream",
     "text": [
      "python3: can't open file '/home/leoluo/文件/GitHub/cudaq-tutorial/cudq-tutorial/tutorial/program.py': [Errno 2] No such file or directory\n"
     ]
    }
   ],
   "source": [
    "! python3 program.py [...] --target qpp-cpu"
   ]
  },
  {
   "cell_type": "code",
   "execution_count": 4,
   "metadata": {},
   "outputs": [],
   "source": [
    "cudaq.set_target('qpp-cpu')"
   ]
  },
  {
   "cell_type": "markdown",
   "metadata": {},
   "source": [
    "# Tensor Network Simulators\n",
    "\n",
    "CUDA-Q provides a couple of tensor-network simulator targets accelerated with the `cuTensorNet` library. These backends are available for use from both **C++** and **Python**.\n",
    "\n",
    "Tensor network simulators are suitable for large-scale simulation of certain classes of quantum circuits involving many qubits beyond the memory limit of state vector-based simulators. For example, computing the expectation value of a Hamiltonian via `cudaq::observe` can be performed efficiently, thanks to `cuTensorNet` contraction optimization capability. \n",
    "\n",
    "However, conditional circuits (i.e., those with mid-circuit measurements or resets), despite being supported by both backends, may result in poor performance.\n"
   ]
  },
  {
   "cell_type": "markdown",
   "metadata": {},
   "source": [
    "\n",
    "## Multi-node Single-GPU\n",
    "\n",
    "The `tensornet` backend represents quantum states and circuits as tensor networks in an exact form (no approximation). Measurement samples and expectation values are computed via tensor network contractions. This backend supports multi-node, multi-GPU distribution of tensor operations required to evaluate and simulate the circuit.\n",
    "\n",
    "To execute a program on the `tensornet` target using a single GPU, use the following commands:"
   ]
  },
  {
   "cell_type": "code",
   "execution_count": 5,
   "metadata": {},
   "outputs": [
    {
     "name": "stdout",
     "output_type": "stream",
     "text": [
      "python3: can't open file '/home/leoluo/文件/GitHub/cudaq-tutorial/cudq-tutorial/tutorial/program.py': [Errno 2] No such file or directory\n"
     ]
    }
   ],
   "source": [
    "! python3 program.py [...] --target tensornet"
   ]
  },
  {
   "cell_type": "code",
   "execution_count": 6,
   "metadata": {},
   "outputs": [],
   "source": [
    "cudaq.set_target('tensornet')"
   ]
  },
  {
   "cell_type": "markdown",
   "metadata": {},
   "source": [
    "## Matrix Product State\n",
    "\n",
    "The `tensornet-mps` backend is based on the matrix product state (MPS) representation of the state vector/wave function, exploiting the sparsity in the tensor network via tensor decomposition techniques such as **QR** and **SVD**. \n",
    "\n",
    "As such, this backend is an approximate simulator, whereby the number of singular values may be truncated to keep the MPS size tractable. The `tensornet-mps` backend only supports single-GPU simulation. Its approximate nature allows the `tensornet-mps` backend to handle a large number of qubits for certain classes of quantum circuits on a relatively small memory footprint.\n",
    "\n",
    "To execute a program on the `tensornet-mps` target, use the following commands:"
   ]
  },
  {
   "cell_type": "code",
   "execution_count": 7,
   "metadata": {},
   "outputs": [
    {
     "name": "stdout",
     "output_type": "stream",
     "text": [
      "python3: can't open file '/home/leoluo/文件/GitHub/cudaq-tutorial/cudq-tutorial/tutorial/program.py': [Errno 2] No such file or directory\n"
     ]
    }
   ],
   "source": [
    "!python3 program.py [...] --target tensornet-mps"
   ]
  },
  {
   "cell_type": "code",
   "execution_count": 8,
   "metadata": {},
   "outputs": [],
   "source": [
    "cudaq.set_target('tensornet-mps')"
   ]
  },
  {
   "cell_type": "markdown",
   "metadata": {},
   "source": []
  }
 ],
 "metadata": {
  "kernelspec": {
   "display_name": "cudaq-env",
   "language": "python",
   "name": "python3"
  },
  "language_info": {
   "codemirror_mode": {
    "name": "ipython",
    "version": 3
   },
   "file_extension": ".py",
   "mimetype": "text/x-python",
   "name": "python",
   "nbconvert_exporter": "python",
   "pygments_lexer": "ipython3",
   "version": "3.11.10"
  }
 },
 "nbformat": 4,
 "nbformat_minor": 2
}
