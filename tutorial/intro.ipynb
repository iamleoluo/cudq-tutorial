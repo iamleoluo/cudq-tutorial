{
 "cells": [
  {
   "cell_type": "markdown",
   "metadata": {},
   "source": [
    "# What is a CUDA-Q kernel?\n",
    "\n",
    "Quantum kernels are defined as functions that are executed on a quantum processing unit (QPU) or a simulated QPU. They generalize quantum circuits and provide a new abstraction for quantum programming. Quantum kernels can be combined with classical functions to create quantum-classical applications that can be executed on a heterogeneous system of QPUs, GPUs, and CPUs to solve real-world problems.\n",
    "\n",
    "### What’s the difference between a quantum kernel and a quantum circuit?\n",
    "\n",
    "Every quantum circuit is a kernel, but not every quantum kernel is a circuit. For instance, a quantum kernel can be built up from other kernels, allowing us to interpret a large quantum program as a sequence of subroutines or subcircuits.\n",
    "\n",
    "Moreover, since quantum kernels are functions, there is more expressibility available compared to a standard quantum circuit. We can not only parameterize the kernel, but also contain classical control flow statements (`if`, `for`, `while`, etc.), and classical computations such as additions, multiplication, etc. Conditional statements on quantum memory and qubit measurements can be included in quantum kernels to enable dynamic circuits and fast feedback, particularly useful for quantum error correction. To learn more about what language constructs are supported within quantum kernels, take a look at the CUDA-Q [specification](https://cudaq.docs/).\n",
    "\n",
    "\n",
    "### How do I build and run a quantum kernel?\n",
    "\n",
    "Once a quantum kernel has been defined in a program, it may be called as a typical function, or can be executed using the `sample` or `observe` primitives.\n",
    "\n",
    "Let’s take a closer look at how to build and execute a quantum kernel with CUDA-Q."
   ]
  },
  {
   "cell_type": "code",
   "execution_count": 7,
   "metadata": {},
   "outputs": [
    {
     "ename": "NameError",
     "evalue": "name 'x' is not defined",
     "output_type": "error",
     "traceback": [
      "\u001b[0;31m---------------------------------------------------------------------------\u001b[0m",
      "\u001b[0;31mNameError\u001b[0m                                 Traceback (most recent call last)",
      "Cell \u001b[0;32mIn[7], line 11\u001b[0m\n\u001b[1;32m      8\u001b[0m    ry(theta, q[\u001b[38;5;241m1\u001b[39m])\n\u001b[1;32m      9\u001b[0m    x\u001b[38;5;241m.\u001b[39mctrl(q[\u001b[38;5;241m1\u001b[39m], q[\u001b[38;5;241m0\u001b[39m])\n\u001b[0;32m---> 11\u001b[0m h \u001b[38;5;241m=\u001b[39m \u001b[38;5;241m5.907\u001b[39m \u001b[38;5;241m-\u001b[39m \u001b[38;5;241m2.1433\u001b[39m \u001b[38;5;241m*\u001b[39m \u001b[43mx\u001b[49m(\u001b[38;5;241m0\u001b[39m) \u001b[38;5;241m*\u001b[39m x(\u001b[38;5;241m1\u001b[39m) \u001b[38;5;241m-\u001b[39m \u001b[38;5;241m2.1433\u001b[39m \u001b[38;5;241m*\u001b[39m y(\u001b[38;5;241m0\u001b[39m) \u001b[38;5;241m*\u001b[39m y(\u001b[38;5;241m1\u001b[39m) \u001b[38;5;241m+\u001b[39m\u001b[38;5;241m.21829\u001b[39m \u001b[38;5;241m*\u001b[39m z(\u001b[38;5;241m0\u001b[39m) \u001b[38;5;241m-\u001b[39m \u001b[38;5;241m6.125\u001b[39m \u001b[38;5;241m*\u001b[39m z(\u001b[38;5;241m1\u001b[39m)\n\u001b[1;32m     12\u001b[0m energy \u001b[38;5;241m=\u001b[39m cudaq\u001b[38;5;241m.\u001b[39mobserve(ansatz, h, \u001b[38;5;241m.59\u001b[39m)\u001b[38;5;241m.\u001b[39mexpectation()\n\u001b[1;32m     13\u001b[0m \u001b[38;5;28mprint\u001b[39m(\u001b[38;5;124m'\u001b[39m\u001b[38;5;124mEnergy is \u001b[39m\u001b[38;5;132;01m{}\u001b[39;00m\u001b[38;5;124m'\u001b[39m\u001b[38;5;241m.\u001b[39mformat(energy))\n",
      "\u001b[0;31mNameError\u001b[0m: name 'x' is not defined"
     ]
    }
   ],
   "source": [
    "import cudaq\n",
    "\n",
    "\n",
    "@cudaq.kernel()\n",
    "def ansatz(theta : float):\n",
    "   q = cudaq.qvector(2)\n",
    "   x(q[0])\n",
    "   ry(theta, q[1])\n",
    "   x.ctrl(q[1], q[0])\n",
    "\n",
    "h = 5.907 - 2.1433 * x(0) * x(1) - 2.1433 * y(0) * y(1) +.21829 * z(0) - 6.125 * z(1)\n",
    "energy = cudaq.observe(ansatz, h, .59).expectation()\n",
    "print('Energy is {}'.format(energy))"
   ]
  },
  {
   "cell_type": "code",
   "execution_count": null,
   "metadata": {},
   "outputs": [],
   "source": []
  }
 ],
 "metadata": {
  "kernelspec": {
   "display_name": "hyperquantum-env",
   "language": "python",
   "name": "python3"
  },
  "language_info": {
   "codemirror_mode": {
    "name": "ipython",
    "version": 3
   },
   "file_extension": ".py",
   "mimetype": "text/x-python",
   "name": "python",
   "nbconvert_exporter": "python",
   "pygments_lexer": "ipython3",
   "version": "3.11.10"
  }
 },
 "nbformat": 4,
 "nbformat_minor": 2
}
