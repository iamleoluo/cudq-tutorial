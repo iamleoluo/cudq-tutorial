{
 "cells": [
  {
   "cell_type": "markdown",
   "metadata": {},
   "source": [
    "# Quantum Computing 101\n",
    "\n",
    "The fundamental unit of classical information storage, processing and transmission is the bit. Analogously, we define its quantum counterpart, a quantum bit or simply the qubit.\n",
    "\n",
    "Classical bits are transistor elements whose states can be altered to perform computations. Similarly, qubits too have physical realizations within superconducting materials, ion-traps and photonic systems. We shall not concern ourselves with specific qubit architectures but rather think of them as systems which obey the laws of quantum mechanics and the mathematical language physicists have developed to describe the theory: linear algebra.\n",
    "\n",
    "\n",
    "\n",
    "## Quantum States\n",
    "\n",
    "Information storage scales linearly if bits have a single state. Access to multiple states, namely a 0 and a 1 allows for information encoding to scale logarithmically. Similarly, we define a qubit to have the states $|0\\rangle$ and $|1\\rangle$ in Dirac notation where:\n",
    "\n",
    "$$\n",
    "|0\\rangle = \\begin{bmatrix} 1 \\\\ 0 \\end{bmatrix}, \\quad |1\\rangle = \\begin{bmatrix} 0 \\\\ 1 \\end{bmatrix}\n",
    "$$\n",
    "\n",
    "Rather than just the two states each classical bit can be in, quantum theory allows one to explore linear combinations of states, also called superpositions:\n",
    "\n",
    "$$\n",
    "|\\psi\\rangle = \\alpha |0\\rangle + \\beta |1\\rangle\n",
    "$$\n",
    "\n",
    "where $\\alpha$ and $\\beta \\in \\mathbb{C}$. It is important to note that this is still the state of one qubit; although we have two kets, they both represent a superposition state of one qubit.\n",
    "\n",
    "If we have two classical bits, the possible states we could encode information in would be `00`, `01`, `10` and `11`. Correspondingly, multiple qubits can be combined and the possible combinations of their states used to process information.\n",
    "\n",
    "A two-qubit system has four computational basis states: $|00\\rangle, |01\\rangle, |10\\rangle, |11\\rangle$.\n",
    "\n",
    "More generally, the quantum state of an $n$-qubit system is written as a sum of $2^n$ possible basis states where the coefficients track the probability of the system collapsing into that state if a measurement is applied.\n",
    "\n",
    "For $n = 500$, $2^n \\approx 10^{150}$ which is greater than the number of atoms in the universe. Storing the complex numbers associated with $2^{500}$ amplitudes would not be feasible using bits and classical computations but nature seems to only require 500 qubits to do so. The art of quantum computation is thus to build quantum systems that we can manipulate with fine precision such that evolving a large statevector can be offloaded onto a quantum computer."
   ]
  },
  {
   "cell_type": "markdown",
   "metadata": {},
   "source": [
    "## Quantum Gates\n",
    "\n",
    "We can manipulate the state of a qubit via quantum gates. For example, the Pauli X gate allows us to flip the state of the qubit:\n",
    "\n",
    "$$\n",
    "X|0\\rangle = |1\\rangle\n",
    "$$\n",
    "\n",
    "$$\n",
    "\\begin{bmatrix}\n",
    "0 & 1 \\\\\n",
    "1 & 0\n",
    "\\end{bmatrix}\n",
    "\\begin{bmatrix}\n",
    "1 \\\\\n",
    "0\n",
    "\\end{bmatrix}\n",
    "=\n",
    "\\begin{bmatrix}\n",
    "0 \\\\\n",
    "1\n",
    "\\end{bmatrix}\n",
    "$$"
   ]
  },
  {
   "cell_type": "code",
   "execution_count": 1,
   "metadata": {},
   "outputs": [
    {
     "name": "stdout",
     "output_type": "stream",
     "text": [
      "{ 1:1000 }\n",
      "\n",
      "Ground state probability: 1\n"
     ]
    }
   ],
   "source": [
    "import cudaq\n",
    "\n",
    "\n",
    "@cudaq.kernel\n",
    "def kernel():\n",
    "    # A single qubit initialized to the ground / zero state.\n",
    "    qubit = cudaq.qubit()\n",
    "\n",
    "    # Apply the Pauli x gate to the qubit.\n",
    "    x(qubit)\n",
    "\n",
    "    # Measurement operator.\n",
    "    mz(qubit)\n",
    "\n",
    "\n",
    "# Sample the qubit for 1000 shots to gather statistics.\n",
    "result = cudaq.sample(kernel)\n",
    "print(result)\n",
    "print(f\"Ground state probability: {result.most_probable()}\")"
   ]
  },
  {
   "cell_type": "markdown",
   "metadata": {},
   "source": [
    "The Hadamard gate allows us to put the qubit in an equal superposition state:\n",
    "\n",
    "$$\n",
    "H|0\\rangle = \\frac{1}{\\sqrt{2}}|0\\rangle + \\frac{1}{\\sqrt{2}}|1\\rangle \\equiv |+\\rangle\n",
    "$$\n",
    "\n",
    "$$\n",
    "\\frac{1}{\\sqrt{2}}\n",
    "\\begin{bmatrix}\n",
    "1 & 1 \\\\\n",
    "1 & -1\n",
    "\\end{bmatrix}\n",
    "\\begin{bmatrix}\n",
    "1 \\\\\n",
    "0\n",
    "\\end{bmatrix}\n",
    "=\n",
    "\\frac{1}{\\sqrt{2}}\n",
    "\\begin{bmatrix}\n",
    "1 \\\\\n",
    "1\n",
    "\\end{bmatrix}\n",
    "=\n",
    "\\frac{1}{\\sqrt{2}}|0\\rangle + \\frac{1}{\\sqrt{2}}|1\\rangle\n",
    "$$\n",
    "\n",
    "The probability of finding the qubit in the $|0\\rangle$ or $|1\\rangle$ state is hence $\\left|\\frac{1}{\\sqrt{2}}\\right|^2 = \\frac{1}{2}$. Let’s verify this with some code:"
   ]
  },
  {
   "cell_type": "code",
   "execution_count": 2,
   "metadata": {},
   "outputs": [
    {
     "name": "stdout",
     "output_type": "stream",
     "text": [
      "Measured |0> with probability 0.49\n",
      "Measured |1> with probability 0.51\n",
      "{ 0:490 1:510 }\n",
      "\n"
     ]
    }
   ],
   "source": [
    "import cudaq\n",
    "\n",
    "\n",
    "@cudaq.kernel\n",
    "def kernel():\n",
    "    # A single qubit initialized to the ground/ zero state.\n",
    "    qubit = cudaq.qubit()\n",
    "\n",
    "    # Apply Hadamard gate to single qubit to put it in equal superposition.\n",
    "    h(qubit)\n",
    "\n",
    "    # Measurement operator.\n",
    "    mz(qubit)\n",
    "\n",
    "\n",
    "result = cudaq.sample(kernel)\n",
    "print(\"Measured |0> with probability \" +\n",
    "      str(result[\"0\"] / sum(result.values())))\n",
    "print(\"Measured |1> with probability \" +\n",
    "      str(result[\"1\"] / sum(result.values())))\n",
    "\n",
    "print(result)"
   ]
  },
  {
   "cell_type": "markdown",
   "metadata": {},
   "source": [
    "For a qubit in a superposition state, quantum gates act linearly:\n",
    "\n",
    "$$\n",
    "X(\\alpha|0\\rangle + \\beta|1\\rangle) = \\alpha|1\\rangle + \\beta|0\\rangle\n",
    "$$\n",
    "\n",
    "As we evolve quantum states via quantum gates, the normalization condition requires that the sum of modulus squared of amplitudes must equal 1 at all times:\n",
    "\n",
    "$$\n",
    "|\\psi\\rangle = \\alpha|0\\rangle + \\beta|1\\rangle, \\quad |\\alpha|^2 + |\\beta|^2 = 1.\n",
    "$$\n",
    "\n",
    "This is to adhere to the conservation of probabilities which translates to a constraint on types of quantum gates we can define. For a general quantum state $|\\psi\\rangle$, upholding the normalization condition requires quantum gates to be unitary, that is:\n",
    "\n",
    "$$\n",
    "U^\\dagger U = U U^\\dagger = I.\n",
    "$$\n",
    "\n",
    "Just like the single-qubit gates above, we can define multi-qubit gates to act on multiple qubits. The controlled-NOT or CNOT gate, for example, acts on 2 qubits: the control qubit and the target qubit. Its effect is to flip the target if the control is in the excited $|1\\rangle$ state."
   ]
  },
  {
   "cell_type": "code",
   "execution_count": 3,
   "metadata": {},
   "outputs": [
    {
     "name": "stdout",
     "output_type": "stream",
     "text": [
      "{ 11:1000 }\n",
      "\n"
     ]
    }
   ],
   "source": [
    "import cudaq\n",
    "\n",
    "\n",
    "@cudaq.kernel\n",
    "def kernel():\n",
    "    # 2 qubits both initialized to the ground/ zero state.\n",
    "    qvector = cudaq.qvector(2)\n",
    "\n",
    "    x(qvector[0])\n",
    "\n",
    "    # Controlled-not gate operation.\n",
    "    x.ctrl(qvector[0], qvector[1])\n",
    "\n",
    "    mz(qvector[0])\n",
    "    mz(qvector[1])\n",
    "\n",
    "\n",
    "result = cudaq.sample(kernel)\n",
    "print(result)"
   ]
  },
  {
   "cell_type": "markdown",
   "metadata": {},
   "source": [
    "The CNOT gate in matrix notation is represented as\n",
    "\n",
    "$$\n",
    "CNOT \\equiv \n",
    "\\begin{bmatrix}\n",
    "1 & 0 & 0 & 0 \\\\\n",
    "0 & 1 & 0 & 0 \\\\\n",
    "0 & 0 & 0 & 1 \\\\\n",
    "0 & 0 & 1 & 0\n",
    "\\end{bmatrix}\n",
    "$$\n",
    "\n",
    "and one can check that $CNOT^\\dagger CNOT = I$. Its effect on the computational basis states is:\n",
    "\n",
    "$$\n",
    "CNOT|00\\rangle = |00\\rangle \\\\\n",
    "CNOT|01\\rangle = |01\\rangle \\\\\n",
    "CNOT|10\\rangle = |11\\rangle \\\\\n",
    "CNOT|11\\rangle = |10\\rangle\n",
    "$$\n",
    "\n",
    "For a full list of gates supported in CUDA-Q, see [Quantum Operations](#)."
   ]
  },
  {
   "cell_type": "markdown",
   "metadata": {},
   "source": [
    "## Measurements\n",
    "\n",
    "Quantum theory is probabilistic and hence requires statistical inference to derive observations. Prior to measurement, the state of a qubit is all possible combinations of $\\alpha$ and $\\beta$ and upon measurement, wavefunction collapse yields either a classical 0 or 1.\n",
    "\n",
    "The mathematical theory devised to explain quantum phenomena tells us that the probability of observing the qubit in the state $|0\\rangle$ or $|1\\rangle$, yielding a classical 0 or 1, is $|\\alpha|^2$ or $|\\beta|^2$, respectively.\n",
    "\n",
    "As we see in the example of the Hadamard gate above, the result 0 or 1 each is yielded roughly 50% of the times as predicted by the postulate stated above, thus proving the theory.\n",
    "\n",
    "Classically, we cannot encode information within states such as 00 + 11, but quantum mechanics allows us to write linear superpositions:\n",
    "\n",
    "$$\n",
    "|\\psi\\rangle = \\alpha_{00}|00\\rangle + \\alpha_{01}|01\\rangle + \\alpha_{10}|10\\rangle + \\alpha_{11}|11\\rangle\n",
    "$$\n",
    "\n",
    "where the probability of measuring $x = 00, 01, 10, 11$ occurs with probability $|\\alpha_x|^2$ with the normalization condition that\n",
    "\n",
    "$$\n",
    "\\sum_{x \\in \\{0,1\\}^2} |\\alpha_x|^2 = 1.\n",
    "$$"
   ]
  },
  {
   "cell_type": "code",
   "execution_count": 4,
   "metadata": {},
   "outputs": [],
   "source": [
    "import cudaq"
   ]
  },
  {
   "cell_type": "markdown",
   "metadata": {},
   "source": [
    "Kernel measurement can be specified in the Z, X, or Y basis using mz, mx, and my. If a measurement is specified with no argument, the entire kernel is measured in that basis. Measurement occurs in the Z basis by default."
   ]
  },
  {
   "cell_type": "code",
   "execution_count": 5,
   "metadata": {},
   "outputs": [],
   "source": [
    "@cudaq.kernel\n",
    "def kernel():\n",
    "    qubits = cudaq.qvector(2)\n",
    "    mz()\n"
   ]
  },
  {
   "cell_type": "markdown",
   "metadata": {},
   "source": [
    "Specific qubits or registers can be measured rather than the entire kernel."
   ]
  },
  {
   "cell_type": "code",
   "execution_count": 6,
   "metadata": {},
   "outputs": [],
   "source": [
    "\n",
    "@cudaq.kernel\n",
    "def kernel():\n",
    "     qubits_a = cudaq.qvector(2)\n",
    "     ubit_b = cudaq.qubit()\n",
    "     mz(qubits_a)\n",
    "     mx(qubit_b)\n"
   ]
  },
  {
   "cell_type": "markdown",
   "metadata": {},
   "source": [
    "Midcircuit Measurement and Conditional Logic\n",
    "\n",
    "In certain cases, it is helpful for some operations in a quantum kernel to depend on measurement results following previous operations. This is accomplished in the following example by performing a Hadamard on qubit 0, then measuring qubit 0 and saving the result as b0. Then, an if statement performs a Hadamard on qubit 1 only if b0 is 1. Measuring this qubit 1 verifies this process as a 1 is the result 25% of the time."
   ]
  },
  {
   "cell_type": "markdown",
   "metadata": {},
   "source": [
    "@cudaq.kernel\n",
    "     def kernel():\n",
    "         q = cudaq.qvector(2)\n",
    "         h(q[0])\n",
    "         b0 = mz(q[0])\n",
    "         if b0:\n",
    "             h(q[1])\n",
    "         mz(q[1])\n",
    "\n",
    "Let me know if any further adjustments are needed!"
   ]
  }
 ],
 "metadata": {
  "kernelspec": {
   "display_name": "cudaq-env",
   "language": "python",
   "name": "python3"
  },
  "language_info": {
   "codemirror_mode": {
    "name": "ipython",
    "version": 3
   },
   "file_extension": ".py",
   "mimetype": "text/x-python",
   "name": "python",
   "nbconvert_exporter": "python",
   "pygments_lexer": "ipython3",
   "version": "3.11.10"
  }
 },
 "nbformat": 4,
 "nbformat_minor": 2
}
