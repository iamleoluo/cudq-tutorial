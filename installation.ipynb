{
 "cells": [
  {
   "cell_type": "markdown",
   "metadata": {},
   "source": [
    "# install CUDA Toolkit 12.6 \n",
    "\n",
    "go to [CUDA Toolkit](https://developer.nvidia.com/cuda-downloads?target_os=Linux&target_arch=x86_64&Distribution=Ubuntu&target_version=24.04&target_type=deb_local) select your platform, and follow the installation instructions."
   ]
  },
  {
   "cell_type": "code",
   "execution_count": 1,
   "metadata": {},
   "outputs": [
    {
     "name": "stdout",
     "output_type": "stream",
     "text": [
      "nvcc: NVIDIA (R) Cuda compiler driver\n",
      "Copyright (c) 2005-2024 NVIDIA Corporation\n",
      "Built on Thu_Mar_28_02:18:24_PDT_2024\n",
      "Cuda compilation tools, release 12.4, V12.4.131\n",
      "Build cuda_12.4.r12.4/compiler.34097967_0\n"
     ]
    }
   ],
   "source": [
    "! nvcc --version"
   ]
  },
  {
   "cell_type": "code",
   "execution_count": 2,
   "metadata": {},
   "outputs": [
    {
     "name": "stdout",
     "output_type": "stream",
     "text": [
      "Sun Nov 17 18:54:54 2024       \n",
      "+-----------------------------------------------------------------------------------------+\n",
      "| NVIDIA-SMI 560.35.03              Driver Version: 560.35.03      CUDA Version: 12.6     |\n",
      "|-----------------------------------------+------------------------+----------------------+\n",
      "| GPU  Name                 Persistence-M | Bus-Id          Disp.A | Volatile Uncorr. ECC |\n",
      "| Fan  Temp   Perf          Pwr:Usage/Cap |           Memory-Usage | GPU-Util  Compute M. |\n",
      "|                                         |                        |               MIG M. |\n",
      "|=========================================+========================+======================|\n",
      "|   0  NVIDIA GeForce RTX 4070        Off |   00000000:01:00.0  On |                  N/A |\n",
      "|  0%   39C    P8             12W /  200W |      44MiB /  12282MiB |      0%      Default |\n",
      "|                                         |                        |                  N/A |\n",
      "+-----------------------------------------+------------------------+----------------------+\n",
      "                                                                                         \n",
      "+-----------------------------------------------------------------------------------------+\n",
      "| Processes:                                                                              |\n",
      "|  GPU   GI   CI        PID   Type   Process name                              GPU Memory |\n",
      "|        ID   ID                                                               Usage      |\n",
      "|=========================================================================================|\n",
      "|    0   N/A  N/A      2152      G   /usr/lib/xorg/Xorg                             39MiB |\n",
      "+-----------------------------------------------------------------------------------------+\n"
     ]
    }
   ],
   "source": [
    "# check if the GPU is available, and the cuda version\n",
    "! nvidia-smi"
   ]
  },
  {
   "cell_type": "markdown",
   "metadata": {},
   "source": [
    "# Install CUDA-Q\n",
    "\n",
    "### Python | C++\n",
    "\n",
    "To develop CUDA-Q applications using Python, please follow the instructions for [installing CUDA-Q](https://pypi.org/project/cudaq/) from PyPI. If you have an NVIDIA GPU, make sure to also follow the instructions for enabling GPU-acceleration.\n",
    "\n",
    "CUDA-Q does not require a GPU to use, but some components are GPU-accelerated.\n"
   ]
  },
  {
   "cell_type": "code",
   "execution_count": 3,
   "metadata": {},
   "outputs": [
    {
     "name": "stdout",
     "output_type": "stream",
     "text": [
      "Requirement already satisfied: pip in /home/leoluo/anaconda3/envs/cuda-quantum/lib/python3.10/site-packages (24.3.1)\n"
     ]
    }
   ],
   "source": [
    "# upadate pip\n",
    "! pip install --upgrade pip"
   ]
  },
  {
   "cell_type": "code",
   "execution_count": 4,
   "metadata": {},
   "outputs": [
    {
     "name": "stdout",
     "output_type": "stream",
     "text": [
      "Channels:\n",
      " - defaults\n",
      "Platform: linux-64\n",
      "Collecting package metadata (repodata.json): done\n",
      "Solving environment: done\n",
      "\n",
      "## Package Plan ##\n",
      "\n",
      "  environment location: /home/leoluo/anaconda3/envs/cudaq-env\n",
      "\n",
      "  added / updated specs:\n",
      "    - pip\n",
      "    - python=3.11\n",
      "\n",
      "\n",
      "The following NEW packages will be INSTALLED:\n",
      "\n",
      "  _libgcc_mutex      pkgs/main/linux-64::_libgcc_mutex-0.1-main \n",
      "  _openmp_mutex      pkgs/main/linux-64::_openmp_mutex-5.1-1_gnu \n",
      "  bzip2              pkgs/main/linux-64::bzip2-1.0.8-h5eee18b_6 \n",
      "  ca-certificates    pkgs/main/linux-64::ca-certificates-2024.9.24-h06a4308_0 \n",
      "  ld_impl_linux-64   pkgs/main/linux-64::ld_impl_linux-64-2.40-h12ee557_0 \n",
      "  libffi             pkgs/main/linux-64::libffi-3.4.4-h6a678d5_1 \n",
      "  libgcc-ng          pkgs/main/linux-64::libgcc-ng-11.2.0-h1234567_1 \n",
      "  libgomp            pkgs/main/linux-64::libgomp-11.2.0-h1234567_1 \n",
      "  libstdcxx-ng       pkgs/main/linux-64::libstdcxx-ng-11.2.0-h1234567_1 \n",
      "  libuuid            pkgs/main/linux-64::libuuid-1.41.5-h5eee18b_0 \n",
      "  ncurses            pkgs/main/linux-64::ncurses-6.4-h6a678d5_0 \n",
      "  openssl            pkgs/main/linux-64::openssl-3.0.15-h5eee18b_0 \n",
      "  pip                pkgs/main/linux-64::pip-24.2-py311h06a4308_0 \n",
      "  python             pkgs/main/linux-64::python-3.11.10-he870216_0 \n",
      "  readline           pkgs/main/linux-64::readline-8.2-h5eee18b_0 \n",
      "  setuptools         pkgs/main/linux-64::setuptools-75.1.0-py311h06a4308_0 \n",
      "  sqlite             pkgs/main/linux-64::sqlite-3.45.3-h5eee18b_0 \n",
      "  tk                 pkgs/main/linux-64::tk-8.6.14-h39e8969_0 \n",
      "  tzdata             pkgs/main/noarch::tzdata-2024b-h04d1e81_0 \n",
      "  wheel              pkgs/main/linux-64::wheel-0.44.0-py311h06a4308_0 \n",
      "  xz                 pkgs/main/linux-64::xz-5.4.6-h5eee18b_1 \n",
      "  zlib               pkgs/main/linux-64::zlib-1.2.13-h5eee18b_1 \n",
      "\n",
      "\n",
      "\n",
      "Downloading and Extracting Packages:\n",
      "\n",
      "Preparing transaction: done\n",
      "Verifying transaction: done\n",
      "Executing transaction: done\n",
      "#\n",
      "# To activate this environment, use\n",
      "#\n",
      "#     $ conda activate cudaq-env\n",
      "#\n",
      "# To deactivate an active environment, use\n",
      "#\n",
      "#     $ conda deactivate\n",
      "\n",
      "Channels:\n",
      " - nvidia/label/cuda-2.6\n",
      " - defaults\n",
      "Platform: linux-64\n",
      "Collecting package metadata (repodata.json): done\n",
      "Solving environment: done\n",
      "\n",
      "## Package Plan ##\n",
      "\n",
      "  environment location: /home/leoluo/anaconda3/envs/cudaq-env\n",
      "\n",
      "  added / updated specs:\n",
      "    - cuda\n",
      "\n",
      "\n",
      "The following NEW packages will be INSTALLED:\n",
      "\n",
      "  _sysroot_linux-64~ pkgs/main/noarch::_sysroot_linux-64_curr_repodata_hack-3-haa98f57_10 \n",
      "  binutils           pkgs/main/linux-64::binutils-2.40-h1680402_0 \n",
      "  binutils_impl_lin~ pkgs/main/linux-64::binutils_impl_linux-64-2.40-h5293946_0 \n",
      "  binutils_linux-64  pkgs/main/linux-64::binutils_linux-64-2.40.0-hc2dff05_1 \n",
      "  cccl               pkgs/main/linux-64::cccl-2.3.2-h2c7f797_0 \n",
      "  cuda               pkgs/main/noarch::cuda-12.4.1-hb982923_0 \n",
      "  cuda-cccl          pkgs/main/linux-64::cuda-cccl-12.4.127-h06a4308_2 \n",
      "  cuda-cccl_linux-64 pkgs/main/noarch::cuda-cccl_linux-64-12.4.127-h06a4308_2 \n",
      "  cuda-command-line~ pkgs/main/linux-64::cuda-command-line-tools-12.4.1-h06a4308_1 \n",
      "  cuda-compiler      pkgs/main/linux-64::cuda-compiler-12.4.1-h6a678d5_1 \n",
      "  cuda-crt-dev_linu~ pkgs/main/noarch::cuda-crt-dev_linux-64-12.4.131-h06a4308_0 \n",
      "  cuda-crt-tools     pkgs/main/linux-64::cuda-crt-tools-12.4.131-h06a4308_0 \n",
      "  cuda-cudart        pkgs/main/linux-64::cuda-cudart-12.4.127-h99ab3db_0 \n",
      "  cuda-cudart-dev    pkgs/main/linux-64::cuda-cudart-dev-12.4.127-h99ab3db_0 \n",
      "  cuda-cudart-dev_l~ pkgs/main/noarch::cuda-cudart-dev_linux-64-12.4.127-hd681fbe_0 \n",
      "  cuda-cudart-static pkgs/main/linux-64::cuda-cudart-static-12.4.127-h99ab3db_0 \n",
      "  cuda-cudart-stati~ pkgs/main/noarch::cuda-cudart-static_linux-64-12.4.127-hd681fbe_0 \n",
      "  cuda-cudart_linux~ pkgs/main/noarch::cuda-cudart_linux-64-12.4.127-hd681fbe_0 \n",
      "  cuda-cuobjdump     pkgs/main/linux-64::cuda-cuobjdump-12.4.127-h6a678d5_1 \n",
      "  cuda-cupti         pkgs/main/linux-64::cuda-cupti-12.4.127-h6a678d5_1 \n",
      "  cuda-cupti-dev     pkgs/main/linux-64::cuda-cupti-dev-12.4.127-h6a678d5_1 \n",
      "  cuda-cuxxfilt      pkgs/main/linux-64::cuda-cuxxfilt-12.4.127-h6a678d5_1 \n",
      "  cuda-driver-dev    pkgs/main/linux-64::cuda-driver-dev-12.4.127-h99ab3db_0 \n",
      "  cuda-driver-dev_l~ pkgs/main/noarch::cuda-driver-dev_linux-64-12.4.127-hd681fbe_0 \n",
      "  cuda-gdb           pkgs/main/linux-64::cuda-gdb-12.4.127-h122497a_1 \n",
      "  cuda-libraries     pkgs/main/linux-64::cuda-libraries-12.4.1-h06a4308_1 \n",
      "  cuda-libraries-dev pkgs/main/linux-64::cuda-libraries-dev-12.4.1-h06a4308_1 \n",
      "  cuda-nsight        pkgs/main/linux-64::cuda-nsight-12.4.127-h06a4308_1 \n",
      "  cuda-nvcc          pkgs/main/linux-64::cuda-nvcc-12.4.131-h02f8991_0 \n",
      "  cuda-nvcc-dev_lin~ pkgs/main/noarch::cuda-nvcc-dev_linux-64-12.4.131-h4ee8466_0 \n",
      "  cuda-nvcc-impl     pkgs/main/linux-64::cuda-nvcc-impl-12.4.131-h99ab3db_0 \n",
      "  cuda-nvcc-tools    pkgs/main/linux-64::cuda-nvcc-tools-12.4.131-h99ab3db_0 \n",
      "  cuda-nvcc_linux-64 pkgs/main/linux-64::cuda-nvcc_linux-64-12.4.131-he92618c_0 \n",
      "  cuda-nvdisasm      pkgs/main/linux-64::cuda-nvdisasm-12.4.127-h6a678d5_1 \n",
      "  cuda-nvml-dev      pkgs/main/linux-64::cuda-nvml-dev-12.4.127-h6a678d5_1 \n",
      "  cuda-nvprof        pkgs/main/linux-64::cuda-nvprof-12.4.127-h6a678d5_1 \n",
      "  cuda-nvprune       pkgs/main/linux-64::cuda-nvprune-12.4.127-h6a678d5_1 \n",
      "  cuda-nvrtc         pkgs/main/linux-64::cuda-nvrtc-12.4.127-h99ab3db_1 \n",
      "  cuda-nvrtc-dev     pkgs/main/linux-64::cuda-nvrtc-dev-12.4.127-h99ab3db_1 \n",
      "  cuda-nvtx          pkgs/main/linux-64::cuda-nvtx-12.4.127-h6a678d5_1 \n",
      "  cuda-nvvm-dev_lin~ pkgs/main/noarch::cuda-nvvm-dev_linux-64-12.4.131-h06a4308_0 \n",
      "  cuda-nvvm-impl     pkgs/main/linux-64::cuda-nvvm-impl-12.4.131-h6a678d5_0 \n",
      "  cuda-nvvm-tools    pkgs/main/linux-64::cuda-nvvm-tools-12.4.131-h6a678d5_0 \n",
      "  cuda-nvvp          pkgs/main/linux-64::cuda-nvvp-12.4.127-h6a678d5_1 \n",
      "  cuda-opencl        pkgs/main/linux-64::cuda-opencl-12.4.127-h6a678d5_0 \n",
      "  cuda-opencl-dev    pkgs/main/linux-64::cuda-opencl-dev-12.4.127-h6a678d5_0 \n",
      "  cuda-profiler-api  pkgs/main/linux-64::cuda-profiler-api-12.4.127-h06a4308_1 \n",
      "  cuda-runtime       pkgs/main/noarch::cuda-runtime-12.4.1-hb982923_0 \n",
      "  cuda-sanitizer-api pkgs/main/linux-64::cuda-sanitizer-api-12.4.127-h99ab3db_1 \n",
      "  cuda-toolkit       pkgs/main/noarch::cuda-toolkit-12.4.1-hb982923_0 \n",
      "  cuda-tools         pkgs/main/linux-64::cuda-tools-12.4.1-h06a4308_1 \n",
      "  cuda-version       pkgs/main/noarch::cuda-version-12.4-hbda6634_3 \n",
      "  cuda-visual-tools  pkgs/main/linux-64::cuda-visual-tools-12.4.1-h06a4308_1 \n",
      "  dbus               pkgs/main/linux-64::dbus-1.13.18-hb2f20db_0 \n",
      "  expat              pkgs/main/linux-64::expat-2.6.3-h6a678d5_0 \n",
      "  fontconfig         pkgs/main/linux-64::fontconfig-2.14.1-h55d465d_3 \n",
      "  freetype           pkgs/main/linux-64::freetype-2.12.1-h4a9f257_0 \n",
      "  gcc_impl_linux-64  pkgs/main/linux-64::gcc_impl_linux-64-11.2.0-h1234567_1 \n",
      "  gcc_linux-64       pkgs/main/linux-64::gcc_linux-64-11.2.0-h5c386dc_1 \n",
      "  gds-tools          pkgs/main/linux-64::gds-tools-1.9.1.3-h99ab3db_1 \n",
      "  glib               pkgs/main/linux-64::glib-2.78.4-h6a678d5_0 \n",
      "  glib-tools         pkgs/main/linux-64::glib-tools-2.78.4-h6a678d5_0 \n",
      "  gmp                pkgs/main/linux-64::gmp-6.2.1-h295c915_3 \n",
      "  gxx_impl_linux-64  pkgs/main/linux-64::gxx_impl_linux-64-11.2.0-h1234567_1 \n",
      "  gxx_linux-64       pkgs/main/linux-64::gxx_linux-64-11.2.0-hc2dff05_1 \n",
      "  icu                pkgs/main/linux-64::icu-73.1-h6a678d5_0 \n",
      "  kernel-headers_li~ pkgs/main/noarch::kernel-headers_linux-64-3.10.0-h57e8cba_10 \n",
      "  krb5               pkgs/main/linux-64::krb5-1.20.1-h143b758_1 \n",
      "  libcublas          pkgs/main/linux-64::libcublas-12.4.5.8-h99ab3db_1 \n",
      "  libcublas-dev      pkgs/main/linux-64::libcublas-dev-12.4.5.8-h99ab3db_1 \n",
      "  libcufft           pkgs/main/linux-64::libcufft-11.2.1.3-h99ab3db_1 \n",
      "  libcufft-dev       pkgs/main/linux-64::libcufft-dev-11.2.1.3-h99ab3db_1 \n",
      "  libcufile          pkgs/main/linux-64::libcufile-1.9.1.3-h99ab3db_1 \n",
      "  libcufile-dev      pkgs/main/linux-64::libcufile-dev-1.9.1.3-h99ab3db_1 \n",
      "  libcurand          pkgs/main/linux-64::libcurand-10.3.5.147-h99ab3db_1 \n",
      "  libcurand-dev      pkgs/main/linux-64::libcurand-dev-10.3.5.147-h99ab3db_1 \n",
      "  libcusolver        pkgs/main/linux-64::libcusolver-11.6.1.9-h99ab3db_1 \n",
      "  libcusolver-dev    pkgs/main/linux-64::libcusolver-dev-11.6.1.9-h99ab3db_1 \n",
      "  libcusparse        pkgs/main/linux-64::libcusparse-12.3.1.170-h99ab3db_1 \n",
      "  libcusparse-dev    pkgs/main/linux-64::libcusparse-dev-12.3.1.170-h99ab3db_1 \n",
      "  libedit            pkgs/main/linux-64::libedit-3.1.20230828-h5eee18b_0 \n",
      "  libgcc-devel_linu~ pkgs/main/linux-64::libgcc-devel_linux-64-11.2.0-h1234567_1 \n",
      "  libglib            pkgs/main/linux-64::libglib-2.78.4-hdc74915_0 \n",
      "  libiconv           pkgs/main/linux-64::libiconv-1.16-h5eee18b_3 \n",
      "  libnpp             pkgs/main/linux-64::libnpp-12.2.5.30-h99ab3db_1 \n",
      "  libnpp-dev         pkgs/main/linux-64::libnpp-dev-12.2.5.30-h99ab3db_1 \n",
      "  libnvfatbin        pkgs/main/linux-64::libnvfatbin-12.4.127-h7934f7d_2 \n",
      "  libnvfatbin-dev    pkgs/main/linux-64::libnvfatbin-dev-12.4.127-h7934f7d_2 \n",
      "  libnvjitlink       pkgs/main/linux-64::libnvjitlink-12.4.127-h99ab3db_1 \n",
      "  libnvjitlink-dev   pkgs/main/linux-64::libnvjitlink-dev-12.4.127-h99ab3db_1 \n",
      "  libnvjpeg          pkgs/main/linux-64::libnvjpeg-12.3.1.117-h6a678d5_1 \n",
      "  libnvjpeg-dev      pkgs/main/linux-64::libnvjpeg-dev-12.3.1.117-h06a4308_1 \n",
      "  libpng             pkgs/main/linux-64::libpng-1.6.39-h5eee18b_0 \n",
      "  libstdcxx-devel_l~ pkgs/main/linux-64::libstdcxx-devel_linux-64-11.2.0-h1234567_1 \n",
      "  libxcb             pkgs/main/linux-64::libxcb-1.15-h7f8727e_0 \n",
      "  libxkbcommon       pkgs/main/linux-64::libxkbcommon-1.0.1-h097e994_2 \n",
      "  libxml2            pkgs/main/linux-64::libxml2-2.13.1-hfdd30dd_2 \n",
      "  nsight-compute     pkgs/main/linux-64::nsight-compute-2024.1.1.4-h968f9c8_2 \n",
      "  nspr               pkgs/main/linux-64::nspr-4.35-h6a678d5_0 \n",
      "  nss                pkgs/main/linux-64::nss-3.89.1-h6a678d5_0 \n",
      "  ocl-icd            pkgs/main/linux-64::ocl-icd-2.3.2-h5eee18b_1 \n",
      "  pcre2              pkgs/main/linux-64::pcre2-10.42-hebb0a14_1 \n",
      "  sysroot_linux-64   pkgs/main/noarch::sysroot_linux-64-2.17-h57e8cba_10 \n",
      "\n",
      "\n",
      "\n",
      "Downloading and Extracting Packages:\n",
      "\n",
      "Preparing transaction: done\n",
      "Verifying transaction: done\n",
      "Executing transaction: done\n"
     ]
    }
   ],
   "source": [
    "# create an anaconda environment for cuda-quantum\n",
    "cuda_version = '12.6' # #set this variable to version 11.x (where x >= 8) or 12.x, based on the version of CUDA you have installed.\n",
    "\n",
    "! conda create -y -n cudaq-env python=3.11 pip\n",
    "! conda install -y -n cudaq-env -c \"nvidia/label/cuda-${cuda_version}\" cuda"
   ]
  },
  {
   "cell_type": "markdown",
   "metadata": {},
   "source": [
    "# change your vscode kernal to cudaq-env"
   ]
  },
  {
   "cell_type": "markdown",
   "metadata": {},
   "source": [
    "run ```conda activate cudaq-env```and ```pip install --default-timeout=100 cuda-quantum``` in terminal"
   ]
  },
  {
   "cell_type": "code",
   "execution_count": 3,
   "metadata": {},
   "outputs": [
    {
     "name": "stdout",
     "output_type": "stream",
     "text": [
      "Running on target nvidia\n",
      "{ 00:513 11:487 }\n",
      "\n"
     ]
    }
   ],
   "source": [
    "# validate the installation\n",
    "import cudaq\n",
    "\n",
    "print(f\"Running on target {cudaq.get_target().name}\")\n",
    "qubit_count = 2  # Default value for qubit count\n",
    "\n",
    "\n",
    "@cudaq.kernel\n",
    "def kernel():\n",
    "    qubits = cudaq.qvector(qubit_count)\n",
    "    h(qubits[0])\n",
    "    for i in range(1, qubit_count):\n",
    "        x.ctrl(qubits[0], qubits[i])\n",
    "    mz(qubits)\n",
    "\n",
    "\n",
    "result = cudaq.sample(kernel)\n",
    "print(result)  # Example: { 11:500 00:500 }"
   ]
  },
  {
   "cell_type": "code",
   "execution_count": 1,
   "metadata": {},
   "outputs": [
    {
     "name": "stdout",
     "output_type": "stream",
     "text": [
      "Name: cuda-quantum\n",
      "Version: 0.8.0\n",
      "Summary: Python bindings for the CUDA-Q toolkit for heterogeneous quantum-classical workflows.\n",
      "Home-page: https://developer.nvidia.com/cuda-quantum\n",
      "Author: NVIDIA Corporation & Affiliates\n",
      "Author-email: \n",
      "License: Apache License Version 2.0\n",
      "\n",
      "Copyright (c) 2023 NVIDIA Corporation & Affiliates\n",
      "All rights reserved.\n",
      "\n",
      "Licensed under the Apache License, Version 2.0 (the \"License\");\n",
      "you may not use this file except in compliance with the License.\n",
      "You may obtain a copy of the License at\n",
      "\n",
      "    http://www.apache.org/licenses/LICENSE-2.0\n",
      "\n",
      "Unless required by applicable law or agreed to in writing, software\n",
      "distributed under the License is distributed on an \"AS IS\" BASIS,\n",
      "WITHOUT WARRANTIES OR CONDITIONS OF ANY KIND, either express or implied.\n",
      "See the License for the specific language governing permissions and\n",
      "limitations under the License.\n",
      "Location: /home/leoluo/anaconda3/envs/cudaq-env/lib/python3.11/site-packages\n",
      "Requires: astpretty, cuquantum-cu11, graphlib-backport, numpy, nvidia-cublas-cu11, nvidia-cuda-runtime-cu11, nvidia-cusolver-cu11, requests\n",
      "Required-by: \n"
     ]
    }
   ],
   "source": [
    "# print the version of cuda-quantum\n",
    "! pip show cuda-quantum"
   ]
  },
  {
   "cell_type": "markdown",
   "metadata": {},
   "source": [
    "useful troubleshooting https://stackoverflow.com/questions/56431461/how-to-remove-cuda-completely-from-ubuntu"
   ]
  }
 ],
 "metadata": {
  "kernelspec": {
   "display_name": "cudaq-env",
   "language": "python",
   "name": "python3"
  },
  "language_info": {
   "codemirror_mode": {
    "name": "ipython",
    "version": 3
   },
   "file_extension": ".py",
   "mimetype": "text/x-python",
   "name": "python",
   "nbconvert_exporter": "python",
   "pygments_lexer": "ipython3",
   "version": "3.11.10"
  }
 },
 "nbformat": 4,
 "nbformat_minor": 2
}
